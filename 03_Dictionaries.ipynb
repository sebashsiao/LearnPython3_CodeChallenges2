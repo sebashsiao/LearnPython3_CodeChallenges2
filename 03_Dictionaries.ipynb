{
 "cells": [
  {
   "cell_type": "markdown",
   "id": "a798c7fd",
   "metadata": {},
   "source": [
    "# Python Code Challenges: Dictionaries\n",
    "#### Python Code Challenges Involving Dictionaries\n",
    "\n",
    "This article will help you review Python functions by providing some code challenges involving dictionaries.\n",
    "\n",
    "Some of these challenges are difficult! Take some time to think about them before starting to code.\n",
    "\n",
    "You might not get the solution correct on your first try — look at your output, try to find where you’re going wrong, and iterate on your solution.\n",
    "\n",
    "Finally, if you get stuck, use our solution code! If you “Check Answer” twice with an incorrect solution, you should see an option to get our solution code. However, truly investigate that solution — experiment and play with the solution code until you have a good grasp of how it is working. Good luck!\n",
    "\n",
    "## Function Syntax\n",
    "```py\n",
    "def some_function(some_input1, some_input2):\n",
    "  … do something with the inputs …\n",
    "  return output\n",
    "```\n",
    "\n",
    "For example, a function that counts the number of values in a dictionary that are above a given number would look like this:\n",
    "\n",
    "```py\n",
    "def greater_than_ten(my_dictionary, number):\n",
    "  count = 0\n",
    "  for value in my_dictionary.values():\n",
    "    if value > number:\n",
    "      count += 1\n",
    "  return count\n",
    "```\n",
    "\n",
    "And this would produce output like:\n",
    "\n",
    "```\n",
    ">>> greater_than_ten({\"a\":1, \"b\":2, \"c\":3}, 0)\n",
    "3\n",
    ">>> greater_than_ten({\"a\":1, \"b\":2, \"c\":3}, 5)\n",
    "0\n",
    "```\n",
    "\n",
    "## Challenges\n",
    "We’ve included 5 challenges below. Try to answer all of them and polish up your problem-solving skills!"
   ]
  },
  {
   "cell_type": "markdown",
   "id": "735fe58a",
   "metadata": {},
   "source": [
    "## 1. Sum Values\n",
    "For the first code challenge, we are going to look at only the values in a dictionary. This function should sum up all of the values from the key-value pairs in the dictionary. Here are the steps we need:\n",
    "\n",
    "1. Define the function to accept one parameter for our dictionary\n",
    "2. Create a variable to keep track of our sum\n",
    "3. Loop through every value in the dictionary\n",
    "4. Inside the loop, add each value to the sum\n",
    "5. Return the sum\n",
    "\n",
    "### Coding question\n",
    "Write a function named `sum_values` that takes a dictionary named `my_dictionary` as a parameter. The function should return the sum of the values of the dictionary\n",
    "\n",
    "#### Hint\n",
    "Create a counter variable and start it at `0`. Loop through all of the elements of `my_dictionary.values()` and add each value to your counter variable."
   ]
  },
  {
   "cell_type": "code",
   "execution_count": 1,
   "id": "1330fd47",
   "metadata": {},
   "outputs": [
    {
     "name": "stdout",
     "output_type": "stream",
     "text": [
      "10\n",
      "6\n"
     ]
    }
   ],
   "source": [
    "# Write your sum_values function here:\n",
    "def sum_values(my_dictionary):\n",
    "    sum = 0\n",
    "    for i in my_dictionary.values():\n",
    "        sum += i\n",
    "    return sum\n",
    "\n",
    "# Uncomment these function calls to test your sum_values function:\n",
    "print(sum_values({\"milk\":5, \"eggs\":2, \"flour\": 3}))\n",
    "# should print 10\n",
    "print(sum_values({10:1, 100:2, 1000:3}))\n",
    "# should print 6"
   ]
  },
  {
   "cell_type": "markdown",
   "id": "b88bcd45",
   "metadata": {},
   "source": [
    "#### Here is this solution:\n",
    "```py\n",
    "def sum_values(my_dictionary):\n",
    "  total = 0\n",
    "  for value in my_dictionary.values():\n",
    "    total += value\n",
    "  return total\n",
    "```\n",
    "We start by creating a variable to keep track of the total. Next, we use the `values()` function in our `for` loop in order to iterate through each of the values in the dictionary. Using this, we can access each value and add it to our `total` variable. At the end of our loop, we return the `total`."
   ]
  },
  {
   "cell_type": "markdown",
   "id": "0ea7e8ba",
   "metadata": {},
   "source": [
    "## 2. Even Keys\n",
    "Next, we are going to do something similar, but we are going to use the keys in order to retrieve the values. Additionally, we are going to only look at every even key within the dictionary. Here are the steps:\n",
    "\n",
    "1. Define the function to accept one parameter for our dictionary\n",
    "2. Create a variable to keep track of our sum\n",
    "3. Loop through every key in the dictionary\n",
    "4. Inside the loop, if the key is even, add the value from the even key\n",
    "5. After the loop, return the sum\n",
    "\n",
    "### Coding question\n",
    "Create a function called `sum_even_keys` that takes a dictionary named `my_dictionary`, with all integer keys and values, as a parameter. This function should return the sum of the values of all even keys.\n",
    "\n",
    "#### Hint\n",
    "Create a counter variable and start it at `0`. Loop through all of the elements of the keys of the dictionary by using `my_dictionary.keys()`. If the key is even (which you can check by using `key % 2 == 0`), add the corresponding value to the counter."
   ]
  },
  {
   "cell_type": "code",
   "execution_count": 2,
   "id": "1c2044d2",
   "metadata": {},
   "outputs": [
    {
     "name": "stdout",
     "output_type": "stream",
     "text": [
      "2\n",
      "6\n"
     ]
    }
   ],
   "source": [
    "# Write your sum_even_keys function here:\n",
    "def sum_even_keys(my_dict):\n",
    "    total = 0\n",
    "    for key, value in my_dict.items():\n",
    "        if key % 2 == 0:\n",
    "            total += value\n",
    "    return total\n",
    "\n",
    "# Uncomment these function calls to test your  function:\n",
    "print(sum_even_keys({1:5, 2:2, 3:3}))\n",
    "# should print 2\n",
    "print(sum_even_keys({10:1, 100:2, 1000:3}))\n",
    "# should print 6"
   ]
  },
  {
   "cell_type": "markdown",
   "id": "7b7a8527",
   "metadata": {},
   "source": [
    "#### Here is one solution:\n",
    "```py\n",
    "def sum_even_keys(my_dictionary):\n",
    "  total = 0\n",
    "  for key in my_dictionary.keys():\n",
    "    if key%2 == 0:\n",
    "      total += my_dictionary[key]\n",
    "  return total\n",
    "```\n",
    "\n",
    "Similar to the previous problem, we are iterating through our dictionary, except this time we are iterating through the keys instead of the values. In order to get the keys we use the `keys()` function and to get the value of a key we can use brackets. To test if the key is even we use the modulus operator and test if the remainder is 0 when dividing by 2."
   ]
  },
  {
   "cell_type": "markdown",
   "id": "288a7a3d",
   "metadata": {},
   "source": [
    "## 3. Add Ten\n",
    "Let’s loop through the keys again, but this time let’s modify the values within the dictionary. Our function should add 10 to every value in the dictionary and return the modified dictionary. Here is what we need to do:\n",
    "\n",
    "1. Define the function to accept one parameter for our dictionary\n",
    "2. Loop through every key in the dictionary\n",
    "3. Retrieve the value using the key and add 10 to it. Make sure to re-save the new value to the original key.\n",
    "4. After the loop, return the modified dictionary\n",
    "\n",
    "### Coding question\n",
    "Create a function named `add_ten` that takes a dictionary with integer values named `my_dictionary` as a parameter. The function should add `10` to every value in `my_dictionary` and return `my_dictionary`\n",
    "\n",
    "#### Hint\n",
    "Loop through every key in the dictionary and add `10` to the value by using `my_dictionary[key] += 10`."
   ]
  },
  {
   "cell_type": "code",
   "execution_count": 3,
   "id": "bbea7d66",
   "metadata": {},
   "outputs": [
    {
     "name": "stdout",
     "output_type": "stream",
     "text": [
      "{1: 15, 2: 12, 3: 13}\n",
      "{10: 11, 100: 12, 1000: 13}\n"
     ]
    }
   ],
   "source": [
    "# Write your add_ten function here:\n",
    "def add_ten(my_dict):\n",
    "    for key in my_dict.keys():\n",
    "        my_dict[key] += 10\n",
    "    return my_dict\n",
    "  \n",
    "# Uncomment these function calls to test your  function:\n",
    "print(add_ten({1:5, 2:2, 3:3}))\n",
    "# should print {1:15, 2:12, 3:13}\n",
    "print(add_ten({10:1, 100:2, 1000:3}))\n",
    "# should print {10:11, 100:12, 1000:13}"
   ]
  },
  {
   "cell_type": "markdown",
   "id": "6028bf7c",
   "metadata": {},
   "source": [
    "#### Here is how we did it:\n",
    "````py\n",
    "def add_ten(my_dictionary):\n",
    "  for key in my_dictionary.keys():\n",
    "    my_dictionary[key] += 10\n",
    "  return my_dictionary\n",
    "````\n",
    "We use a `for` loop to iterate through each key and we access the value using the key. After accessing it, we overwrite the value with the value plus 10. Finally, we return the modified dictionary."
   ]
  },
  {
   "cell_type": "markdown",
   "id": "55e30de7",
   "metadata": {},
   "source": [
    "## 4. Values That Are Keys\n",
    "We are making a program that will create a family tree. Using a dictionary, we want to return a list of all the children who are also parents of other children. Using dictionaries we can consider those people to be values which are also keys in our dictionary of family data. Here is what we need to do:\n",
    "\n",
    "1. Define the function to accept one parameter for our dictionary\n",
    "2. Create an empty list to hold the values we find\n",
    "3. Loop through every value in the dictionary\n",
    "4. Inside the loop, test if the current value is a key in the dictionary. If it is then append it to the list of values we found\n",
    "5. After the loop, return the list of values which are also keys\n",
    "\n",
    "### Coding question\n",
    "Create a function named `values_that_are_keys` that takes a dictionary `named my_dictionary` as a parameter. This function should return a list of all values in the dictionary that are also keys.\n",
    "\n",
    "#### Hint\n",
    "Loop through all values in the dictionary by using `for value in my_dictionary.values()`. Check to see if `value` is in `my_dictionary.keys()` and if so, append it to a list."
   ]
  },
  {
   "cell_type": "code",
   "execution_count": 4,
   "id": "3c1c8436",
   "metadata": {},
   "outputs": [
    {
     "name": "stdout",
     "output_type": "stream",
     "text": [
      "[1, 4]\n",
      "['a']\n"
     ]
    }
   ],
   "source": [
    "# Write your values_that_are_keys function here:\n",
    "def values_that_are_keys(my_dict):\n",
    "    list_value_key = []\n",
    "    for value in my_dict.values():\n",
    "        if value in my_dict.keys():\n",
    "            list_value_key.append(value)\n",
    "    return list_value_key\n",
    "\n",
    "# Uncomment these function calls to test your  function:\n",
    "print(values_that_are_keys({1:100, 2:1, 3:4, 4:10}))\n",
    "# should print [1, 4]\n",
    "print(values_that_are_keys({\"a\":\"apple\", \"b\":\"a\", \"c\":100}))\n",
    "# should print [\"a\"]"
   ]
  },
  {
   "cell_type": "markdown",
   "id": "6bb2bdee",
   "metadata": {},
   "source": [
    "#### Here is this solution:\n",
    "```py\n",
    "def values_that_are_keys(my_dictionary):\n",
    "  value_keys = []\n",
    "  for value in my_dictionary.values():\n",
    "    if value in my_dictionary:\n",
    "      value_keys.append(value)\n",
    "  return value_keys\n",
    "```\n",
    "For this solution, we iterate through every value within the dictionary. In order to check if it is also a key, we can use the `in` keyword. This checks the value against all of the keys in the dictionary to see if it exists as a key as well. If it does, then we append it to our list of values which are also keys."
   ]
  },
  {
   "cell_type": "markdown",
   "id": "f1f7b86a",
   "metadata": {},
   "source": [
    "## 5. Largest Value\n",
    "For the last challenge, we are going to create a function that is able to find the maximum value in the dictionary and return the associated key. This is a twist on the max algorithm since it is using a dictionary rather than a list. These are the steps:\n",
    "\n",
    "1. Define the function to accept one parameter for our dictionary\n",
    "2. Initialize the starting key to a very low number\n",
    "3. Initialize the starting value to a very low number\n",
    "4. Iterate through the dictionary’s key/value pairs.\n",
    "5. Inside the loop, if the current value is larger than the current largest value, replace the largest key and largest value with the current ones you are looking at\n",
    "6. Once you are done iterating through all key/value pairs, return the key which has the largest value\n",
    "\n",
    "### Coding question\n",
    "Write a function named `max_key` that takes a dictionary named `my_dictionary` as a parameter. The function should return the key associated with the largest value in the dictionary.\n",
    "\n",
    "#### Hint\n",
    "Begin by creating two variables named `largest_key` and `largest_value`. Initialize `largest_value` to be the smallest number possible (you can use `float(\"-inf\")`). Initialize `largest_key` to any value you want (this will be immediately overwritten once we find the first value later than negative infinity).\n",
    "Loop through all key/value pairs in the dictionary. Any time you find a value larger than what is currently stored in `largest_value`, replace `largest_value` with that new value. Similarly, replace `largest_key` with the key associated with the new largest value.\n",
    "\n",
    "After looping through all key/value pairs, return `largest_key`."
   ]
  },
  {
   "cell_type": "code",
   "execution_count": 5,
   "id": "c768d2ec",
   "metadata": {},
   "outputs": [
    {
     "name": "stdout",
     "output_type": "stream",
     "text": [
      "1\n",
      "c\n"
     ]
    }
   ],
   "source": [
    "# Write your max_key function here:\n",
    "def max_key(my_dict):\n",
    "    max_value = float('-inf')\n",
    "    max_key = float('-inf')\n",
    "    for key, value in my_dict.items():\n",
    "        if value > max_value:\n",
    "            max_key = key\n",
    "            max_value = value\n",
    "    return max_key\n",
    "\n",
    "# Uncomment these function calls to test your  function:\n",
    "print(max_key({1:100, 2:1, 3:4, 4:10}))\n",
    "# should print 1\n",
    "print(max_key({\"a\":100, \"b\":10, \"c\":1000}))\n",
    "# should print \"c\""
   ]
  },
  {
   "cell_type": "markdown",
   "id": "42ad424e",
   "metadata": {},
   "source": [
    "#### Here is this solution:\n",
    "```py\n",
    "def max_key(my_dictionary):\n",
    "  largest_key = float(\"-inf\")\n",
    "  largest_value = float(\"-inf\")\n",
    "  for key, value in my_dictionary.items():\n",
    "    if value > largest_value:\n",
    "      largest_value = value\n",
    "      largest_key = key\n",
    "  return largest_key\n",
    "```\n",
    "In order to program the max algorithm using dictionaries, we need to keep track of the max value and the key which is used to access it. We start by using `float(\"-inf\")` in order to initialize them to the lowest possible value. To retrieve the key and value at the same time, we use the `items()` function. Inside our loop, we overwrite the current largest value and the key used to access whenever we find a larger value. We return the largest value’s key once we have iterated through the entire dictionary."
   ]
  },
  {
   "cell_type": "code",
   "execution_count": null,
   "id": "82d0ea2b",
   "metadata": {},
   "outputs": [],
   "source": []
  }
 ],
 "metadata": {
  "kernelspec": {
   "display_name": "Python 3 (ipykernel)",
   "language": "python",
   "name": "python3"
  },
  "language_info": {
   "codemirror_mode": {
    "name": "ipython",
    "version": 3
   },
   "file_extension": ".py",
   "mimetype": "text/x-python",
   "name": "python",
   "nbconvert_exporter": "python",
   "pygments_lexer": "ipython3",
   "version": "3.11.5"
  }
 },
 "nbformat": 4,
 "nbformat_minor": 5
}
