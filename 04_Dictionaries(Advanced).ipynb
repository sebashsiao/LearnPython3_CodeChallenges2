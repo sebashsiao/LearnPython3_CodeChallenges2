{
 "cells": [
  {
   "cell_type": "markdown",
   "id": "bc519699",
   "metadata": {},
   "source": [
    "# Python Code Challenges: Dictionaries (Advanced)"
   ]
  },
  {
   "cell_type": "markdown",
   "id": "c72e03d7",
   "metadata": {},
   "source": [
    "#### Difficult Python Code Challenges Involving Dictionaries\n",
    "\n",
    "This article will help you review Python functions by providing some code challenges involving dictionaries.\n",
    "\n",
    "Some of these challenges are difficult! Take some time to think about them before starting to code.\n",
    "\n",
    "You might not get the solution correct on your first try — look at your output, try to find where you’re going wrong, and iterate on your solution.\n",
    "\n",
    "Finally, if you get stuck, use our solution code! If you “Check Answer” twice with an incorrect solution, you should see an option to get our solution code. However, truly investigate that solution — experiment and play with the solution code until you have a good grasp of how it is working. Good luck!\n",
    "\n",
    "## Function Syntax\n",
    "\n",
    "```py\n",
    "def some_function(some_input1, some_input2):\n",
    "  … do something with the inputs …\n",
    "  return output\n",
    "```\n",
    "\n",
    "For example, a function that counts the number of values in a dictionary that are above a given number would look like this:\n",
    "\n",
    "```py\n",
    "def greater_than_ten(my_dictionary, number):\n",
    "  count = 0\n",
    "  for value in my_dictionary.values():\n",
    "    if value > number:\n",
    "      count += 1\n",
    "  return count\n",
    "```\n",
    "\n",
    "And this would produce output like:\n",
    "\n",
    "```\n",
    ">>> greater_than_ten({\"a\":1, \"b\":2, \"c\":3}, 0)\n",
    "3\n",
    ">>> greater_than_ten({\"a\":1, \"b\":2, \"c\":3}, 5)\n",
    "0\n",
    "```\n",
    "\n",
    "## Challenges\n",
    "We’ve included 4 challenges below. Try to answer all of them and polish up your problem-solving skills!\n",
    "\n"
   ]
  },
  {
   "cell_type": "markdown",
   "id": "27dd7e21",
   "metadata": {},
   "source": [
    "## 1. Word Length Dict\n",
    "Let’s start by writing a function that creates a new dictionary based on a list of strings. The keys of our dictionary will be every string in our list of strings, while the values will be the length of each of the words in the string list. Here are the steps:\n",
    "\n",
    "1. Define the function to accept one parameter for our list of strings\n",
    "2. Create a new empty dictionary\n",
    "3. Loop through every string in the list of strings\n",
    "4. Inside the loop, add the string as a key and the length of the string as the value to the dictionary\n",
    "5. After the loop, return the new dictionary\n",
    "\n",
    "### Coding question\n",
    "Write a function named `word_length_dictionary` that takes a list of strings named `words` as a parameter. The function should return a dictionary of key/value pairs where every key is a `word` in words and every value is the length of that word.\n",
    "\n",
    "#### Hint\n",
    "First create an empty dictionary named something like `word_lengths`. Loop through every word in `words` and add a new key using `word_lengths[word] = len(word)`"
   ]
  },
  {
   "cell_type": "code",
   "execution_count": 1,
   "id": "453b6571",
   "metadata": {},
   "outputs": [
    {
     "name": "stdout",
     "output_type": "stream",
     "text": [
      "{'apple': 5, 'dog': 3, 'cat': 3}\n",
      "{'a': 1, '': 0}\n"
     ]
    }
   ],
   "source": [
    "# Write your word_length_dictionary function here:\n",
    "def word_length_dictionary(words):\n",
    "    word_lengths = {}\n",
    "    for word in words:\n",
    "        word_lengths[word] = len(word)\n",
    "    return word_lengths\n",
    "\n",
    "# Uncomment these function calls to test your  function:\n",
    "print(word_length_dictionary([\"apple\", \"dog\", \"cat\"]))\n",
    "# should print {\"apple\":5, \"dog\": 3, \"cat\":3}\n",
    "print(word_length_dictionary([\"a\", \"\"]))\n",
    "# should print {\"a\": 1, \"\": 0}"
   ]
  },
  {
   "cell_type": "markdown",
   "id": "4366c570",
   "metadata": {},
   "source": [
    "#### Here is this solution:\n",
    "```py\n",
    "def word_length_dictionary(words):\n",
    "  word_lengths = {}\n",
    "  for word in words:\n",
    "    word_lengths[word] = len(word)\n",
    "  return word_lengths\n",
    "```\n",
    "To create a new dictionary we set a variable equal to `{}`. While iterating through each string in our string list, we can add the key and value to our dictionary using this syntax: `word_lengths[word] = len(word)`."
   ]
  },
  {
   "cell_type": "markdown",
   "id": "ac1caadc",
   "metadata": {},
   "source": [
    "## 2. Frequency Count\n",
    "This next function is similar, but instead of counting the length of each string in the list of strings, we will be counting the frequency of each string. This function will also accept a list of strings as input and return a new dictionary. Here is what we need to do:\n",
    "\n",
    "1. Define the function to accept one parameter for our list of strings\n",
    "2. Create a new empty dictionary\n",
    "3. Loop through every string in the list of strings\n",
    "4. Inside the loop, if the string is not already in our dictionary, store the string as a key with a value of 0 in our dictionary. Then, increment the value by 1.\n",
    "5. After the loop, return the new dictionary\n",
    "\n",
    "### Coding question\n",
    "Write a function named `frequency_dictionary` that takes a list of elements named `words` as a parameter. The function should return a dictionary containing the frequency of each element in words.\n",
    "\n",
    "#### Hint\n",
    "First, create a new empty dictionary. Then, loop through every `word` in `words`. If `word` is not a key in the dictionary, make `word` a key with a value of `0`. If `word` is already a key, increase the value associated with `word` by `1`."
   ]
  },
  {
   "cell_type": "code",
   "execution_count": 2,
   "id": "b5d8b637",
   "metadata": {},
   "outputs": [
    {
     "name": "stdout",
     "output_type": "stream",
     "text": [
      "{'apple': 2, 'cat': 1, 1: 1}\n",
      "{0: 5}\n"
     ]
    }
   ],
   "source": [
    "# Write your frequency_dictionary function here:\n",
    "def frequency_dictionary(words):\n",
    "    frequency = {}\n",
    "    for word in words:\n",
    "        if word not in frequency.keys():\n",
    "            frequency[word] = 0\n",
    "        frequency[word] += 1\n",
    "    return frequency\n",
    "\n",
    "# Uncomment these function calls to test your  function:\n",
    "print(frequency_dictionary([\"apple\", \"apple\", \"cat\", 1]))\n",
    "# should print {\"apple\":2, \"cat\":1, 1:1}\n",
    "print(frequency_dictionary([0,0,0,0,0]))\n",
    "# should print {0:5}"
   ]
  },
  {
   "cell_type": "markdown",
   "id": "4902a428",
   "metadata": {},
   "source": [
    "#### Here is how we solved it:\n",
    "```py\n",
    "def frequency_dictionary(words):\n",
    "  freqs = {}\n",
    "  for word in words:\n",
    "    if word not in freqs:\n",
    "      freqs[word] = 0\n",
    "    freqs[word] += 1\n",
    "  return freqs\n",
    "```\n",
    "To create a new dictionary we set a variable equal to `{}`. We iterate through each of the strings in the list of strings and check if it is already in our dictionary using the `in` keyword. If it is not then we add it as a new key-value pair where the value is 0. Regardless of whether the string was already in the dictionary, increase the value by 1. This will make it so all new entries will have a value of 1 and all existing entries will increase their old value by 1."
   ]
  },
  {
   "cell_type": "markdown",
   "id": "d02a9aa1",
   "metadata": {},
   "source": [
    "## 3. Unique Values\n",
    "Now let’s try reading a dictionary as input and finding how many values are unique. The function should return a number which is the count of all values from the dictionary without including duplicates. These are the steps:\n",
    "\n",
    "1. Define the function to accept one parameter for our dictionary\n",
    "2. Create a new empty list\n",
    "3. Loop through every value in our dictionary\n",
    "4. Inside the loop, if the value is not already in our list, append the value to our list\n",
    "5. After the loop, return the length of our list\n",
    "\n",
    "### Coding question\n",
    "Create a function named `unique_values` that takes a dictionary named `my_dictionary` as a parameter. The function should return the number of unique values in the dictionary.\n",
    "\n",
    "#### Hint\n",
    "Begin by creating a new empty list named `seen_values`. Loop through all of the values of `my_dictionary`. For every value, check to see if that value is in `seen_values`. If it is, continue to the next value. If it is not, add it to `seen_values`. After looping through all values, return the length of `seen_values`."
   ]
  },
  {
   "cell_type": "code",
   "execution_count": 3,
   "id": "5bf933cc",
   "metadata": {},
   "outputs": [
    {
     "name": "stdout",
     "output_type": "stream",
     "text": [
      "2\n",
      "1\n"
     ]
    }
   ],
   "source": [
    "# Write your unique_values function here:\n",
    "def unique_values(my_dict):\n",
    "    unique = []\n",
    "    for value in my_dict.values():\n",
    "        if value not in unique:\n",
    "            unique.append(value)\n",
    "    return len(unique)\n",
    "\n",
    "# Uncomment these function calls to test your  function:\n",
    "print(unique_values({0:3, 1:1, 4:1, 5:3}))\n",
    "# should print 2\n",
    "print(unique_values({0:3, 1:3, 4:3, 5:3}))\n",
    "# should print 1"
   ]
  },
  {
   "cell_type": "markdown",
   "id": "ec9ede58",
   "metadata": {},
   "source": [
    "#### Here is this solution:\n",
    "```py\n",
    "def unique_values(my_dictionary):\n",
    "  seen_values = []\n",
    "  for value in my_dictionary.values():\n",
    "    if value not in seen_values:\n",
    "      seen_values.append(value)\n",
    "  return len(seen_values)\n",
    "```\n",
    "This function has a similar structure to the last one except that the input has been changed to a dictionary. We iterate through each of the values and whenever we find one we have not added to our list already, we add it to the list. After the loop, we return the length of the list since that contains all unique values from the dictionary.\n",
    "\n"
   ]
  },
  {
   "cell_type": "markdown",
   "id": "2669e0eb",
   "metadata": {},
   "source": [
    "## 4. Count First Letter\n",
    "This function accepts a dictionary where the keys are last names and the values are lists of first names of people who have that last name. We need to calculate the number of people who have the same first letter in their last name. Here are the steps we need:\n",
    "\n",
    "1. Define the function to accept one parameter for our dictionary\n",
    "2. Create a new empty dictionary called `letters`\n",
    "3. Loop through every key in our `names` dictionary\n",
    "4. Inside the loop, get the first letter of the last name we are looking at. If the first letter is not in our letter dictionary, add it as a key with a value of 0. Then, increment that key by the number of people that have that last name\n",
    "5. After the loop, return the `letters` dictionary\n",
    "\n",
    "### Coding question\n",
    "Create a function named `count_first_letter` that takes a dictionary named `names` as a parameter. `names` should be a dictionary where the key is a last name and the value is a list of first names. For example, the dictionary might look like this:\n",
    "\n",
    "```py\n",
    "names = {\"Stark\": [\"Ned\", \"Robb\", \"Sansa\"], \"Snow\" : [\"Jon\"], \"Lannister\": [\"Jaime\", \"Cersei\", \"Tywin\"]}\n",
    "```\n",
    "\n",
    "The function should return a new dictionary where each key is the first letter of a last name, and the value is the number of people whose last name begins with that letter.\n",
    "\n",
    "So in example above, the function would return:\n",
    "\n",
    "```py\n",
    "{\"S\" : 4, \"L\": 3}\n",
    "```\n",
    "\n",
    "#### Hint\n",
    "Begin by creating an empty dictionary named something like `letters`. Loop through the keys of `names` and access the first letter of each the key using `key[0]`.\n",
    "If that letter is not a key in `letters`, create a new key/value pair where the key is `key[0]` and the value is the length of `names[key]`.\n",
    "\n",
    "If that letter is a key in `letters`, simply add the length of `names[key]` to value associated with `key[0]` in `letters`."
   ]
  },
  {
   "cell_type": "code",
   "execution_count": 4,
   "id": "5ef5d684",
   "metadata": {},
   "outputs": [
    {
     "name": "stdout",
     "output_type": "stream",
     "text": [
      "{'S': 4, 'L': 3}\n",
      "{'S': 7}\n"
     ]
    }
   ],
   "source": [
    "# Write your count_first_letter function here:\n",
    "def count_first_letter(names):\n",
    "    new_dict = {}\n",
    "    # letters = []\n",
    "    for key, value in names.items():\n",
    "        if key[0] not in new_dict:\n",
    "            new_dict[key[0]] = 0\n",
    "        new_dict[key[0]] += len(value)\n",
    "    return new_dict\n",
    "\n",
    "# Uncomment these function calls to test your  function:\n",
    "print(count_first_letter({\"Stark\": [\"Ned\", \"Robb\", \"Sansa\"], \"Snow\" : [\"Jon\"], \"Lannister\": [\"Jaime\", \"Cersei\", \"Tywin\"]}))\n",
    "# should print {\"S\": 4, \"L\": 3}\n",
    "print(count_first_letter({\"Stark\": [\"Ned\", \"Robb\", \"Sansa\"], \"Snow\" : [\"Jon\"], \"Sannister\": [\"Jaime\", \"Cersei\", \"Tywin\"]}))\n",
    "# should print {\"S\": 7}"
   ]
  },
  {
   "cell_type": "markdown",
   "id": "646a4110",
   "metadata": {},
   "source": [
    "#### Here is what we did:\n",
    "```py\n",
    "def count_first_letter(names):\n",
    "  letters = {}\n",
    "  for key in names:\n",
    "    first_letter = key[0]\n",
    "    if first_letter not in letters:\n",
    "      letters[first_letter] = 0\n",
    "    letters[first_letter] += len(names[key])\n",
    "  return letters\n",
    "```\n",
    "\n",
    "This function uses two dictionaries instead of one dictionary and one list. We iterate through each of the keys (which are the last names) and store the first letter of the last name in `first_letter`. We then use similar logic to what we have used before by testing if we have already seen that letter before. If we haven’t seen that letter before, then we add it to our dictionary with a value of 0. Next, we are going to increment the value. Since we know that some people share the last name (as seen by the list of first names in our `names` dictionary), we are going to increment the value in our `letters` dictionary by the length of first names that share the last name for our current iteration (`key`)."
   ]
  },
  {
   "cell_type": "code",
   "execution_count": null,
   "id": "d83b2c62",
   "metadata": {},
   "outputs": [],
   "source": []
  }
 ],
 "metadata": {
  "kernelspec": {
   "display_name": "Python 3 (ipykernel)",
   "language": "python",
   "name": "python3"
  },
  "language_info": {
   "codemirror_mode": {
    "name": "ipython",
    "version": 3
   },
   "file_extension": ".py",
   "mimetype": "text/x-python",
   "name": "python",
   "nbconvert_exporter": "python",
   "pygments_lexer": "ipython3",
   "version": "3.11.5"
  }
 },
 "nbformat": 4,
 "nbformat_minor": 5
}
