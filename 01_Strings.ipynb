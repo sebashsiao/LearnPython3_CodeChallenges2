{
 "cells": [
  {
   "cell_type": "markdown",
   "id": "12a202a972ccd3fa",
   "metadata": {},
   "source": [
    "# Python Code Challenges: Strings\n",
    "\n",
    "#### Python Code Challenges involving Strings\n",
    "\n",
    "This article will help you review Python functions by providing some code challenges about strings.\n",
    "\n",
    "Some of these challenges are difficult! Take some time to think about them before starting to code.\n",
    "\n",
    "You might not get the solution correct on your first try — look at your output, try to find where you’re going wrong, and iterate on your solution.\n",
    "\n",
    "Finally, if you get stuck, use our solution code! If you “Check Answer” twice with an incorrect solution, you should see an option to get our solution code. However, truly investigate that solution — experiment and play with the solution code until you have a good grasp of how it is working. Good luck!\n",
    "\n",
    "## Function Syntax\n",
    "As a refresher, function syntax looks like this:\n",
    "\n",
    "```py\n",
    "def some_function(some_input1, some_input2):\n",
    "  # … do something with the inputs …\n",
    "  return output\n",
    "```\n",
    "\n",
    "For example, a function that finds the difference in length between two Strings would look like this:\n",
    "\n",
    "```\n",
    "def lengthDiff(str1, str2):\n",
    "  return len(str1) - len(str2)\n",
    "```\n",
    "\n",
    "And this would produce output like:\n",
    "```\n",
    ">>> lengthDiff(\"Python\", \"rocks\")\n",
    "1\n",
    ">>> lengthDiff(\"Marco\", \"Polo\")\n",
    "1\n",
    ">>> lengthDiff(\"Kevin\", \"Durant\")\n",
    "-1\n",
    "```\n",
    "\n",
    "## Challenges\n",
    "We’ve included 5 challenges below. Try to answer all of them and polish up your problem-solving skills and your string expertise."
   ]
  },
  {
   "cell_type": "markdown",
   "id": "a67ea546eab4090d",
   "metadata": {},
   "source": [
    "## 1. Count Letters\n",
    "For the first code challenge, we are going to count the number of unique letters in a string. This means that when we are looking at the word, any new letters should be counted and any duplicates should not be counted. There are a few ways to solve this, but we can use the provided alphabet string to ensure that duplicates are not counted. Here is what we need to do:\n",
    "\n",
    "1. Define the function to accept one parameter — the word whose letters we are counting\n",
    "2. Create a counter to keep track of unique letters\n",
    "3. Loop through every letter in our alphabet string. If the current letter was found in our word, increase our count\n",
    "4. Return the count after looping through all letters.\n",
    "\n",
    "### Coding question\n",
    "Write a function called `unique_english_letters` that takes the string `word` as a parameter. The function should return the total number of unique letters in the string. Uppercase and lowercase letters should be counted as different letters.\n",
    "\n",
    "We’ve given you a list of every uppercase and lower case letter in the English alphabet. It will be helpful to include that list in your function.\n",
    "\n",
    "#### Hint\n",
    "Loop through the list of English letters and check to see if each letter is included in `word` by using `in`."
   ]
  },
  {
   "cell_type": "code",
   "execution_count": 1,
   "id": "734e42bbf3e7b20f",
   "metadata": {},
   "outputs": [
    {
     "name": "stdout",
     "output_type": "stream",
     "text": [
      "4\n",
      "4\n"
     ]
    }
   ],
   "source": [
    "letters = \"ABCDEFGHIJKLMNOPQRSTUVWXYZabcdefghijklmnopqrstuvwxyz\"\n",
    "# Write your unique_english_letters function here:\n",
    "def unique_english_letters(word):\n",
    "    unique_letters = 0\n",
    "    for letter in letters:\n",
    "        if letter in word:\n",
    "            unique_letters += 1\n",
    "    return unique_letters\n",
    "\n",
    "# Uncomment these function calls to test your function:\n",
    "print(unique_english_letters(\"mississippi\"))\n",
    "# should print 4\n",
    "print(unique_english_letters(\"Apple\"))\n",
    "# should print 4"
   ]
  },
  {
   "cell_type": "code",
   "execution_count": 2,
   "id": "e2510b96",
   "metadata": {},
   "outputs": [
    {
     "name": "stdout",
     "output_type": "stream",
     "text": [
      "['i', 'm', 'p', 's']\n",
      "['A', 'e', 'l', 'p']\n"
     ]
    }
   ],
   "source": [
    "# To return the unique charcters as list\n",
    "def unique_english_letters_list(word):\n",
    "    unique_letters_list = [letter for letter in letters if letter in word]\n",
    "    return unique_letters_list\n",
    "\n",
    "# Uncomment these function calls to test your function:\n",
    "print(unique_english_letters_list(\"mississippi\"))\n",
    "# should print 4\n",
    "print(unique_english_letters_list(\"Apple\"))\n",
    "# should print 4"
   ]
  },
  {
   "cell_type": "markdown",
   "id": "9975683c9abff8e7",
   "metadata": {},
   "source": [
    "#### This is how we solved it:\n",
    "```py \n",
    "def unique_english_letters(word):\n",
    "  uniques = 0\n",
    "  for letter in letters:\n",
    "    if letter in word:\n",
    "      uniques += 1\n",
    "  return uniques\n",
    "```\n",
    "Since the provided alphabet string includes a single instance of all uppercase and lowercase letters in the English alphabet, we can iterate through that string and see if our input strings contains the current letter we are looking at. This can be accomplished using the keyword `in`. For every letter `in` the possible letters, we see if that letter is `in` our string!"
   ]
  },
  {
   "cell_type": "markdown",
   "id": "ced824accef6b20f",
   "metadata": {},
   "source": [
    "## 2. Count X\n",
    "Next, we are going to try something a bit different. This time we are going to count the number of occurrences of a certain letter within a string. Our function will accept a parameter for a string and another for the character which we are going to count. For example, providing the word `\"mississippi\"` and the character `'s'` would result in an answer of 4. These are the steps we need to take:\n",
    "\n",
    "1. Define the function to accept two parameters. `word` for the input string and `x` for the single character\n",
    "2. Create a counter to keep track of the occurrences\n",
    "3. Loop through every letter in the string. If the current letter is equal to the input letter, increase our counter\n",
    "4. Return the counter after looping through the entire string.\n",
    "\n",
    "### Coding question\n",
    "Write a function named `count_char_x` that takes a string named `word` and a single character named `x` as parameters. The function should return the number of times `x` appears in `word`.\n",
    "\n",
    "#### Hint\n",
    "Use a `for` loop to loop through all of the characters of `word`. If the letter is equal to the value of `x`, increase a counter variable by one."
   ]
  },
  {
   "cell_type": "code",
   "execution_count": 3,
   "id": "7a435a123e18ec09",
   "metadata": {},
   "outputs": [
    {
     "name": "stdout",
     "output_type": "stream",
     "text": [
      "4\n",
      "1\n"
     ]
    }
   ],
   "source": [
    "# Write your count_char_x function here:\n",
    "def count_char_x(word, x):\n",
    "    occurrences = 0\n",
    "    for letter in word:\n",
    "        if letter == x:\n",
    "            occurrences += 1\n",
    "    return occurrences\n",
    "\n",
    "# Uncomment these function calls to test your tip function:\n",
    "print(count_char_x(\"mississippi\", \"s\"))\n",
    "# should print 4\n",
    "print(count_char_x(\"mississippi\", \"m\"))\n",
    "# should print 1"
   ]
  },
  {
   "cell_type": "code",
   "execution_count": 4,
   "id": "2d73d25c",
   "metadata": {},
   "outputs": [
    {
     "name": "stdout",
     "output_type": "stream",
     "text": [
      "4\n",
      "1\n"
     ]
    }
   ],
   "source": [
    "# Another solution using string .count() method.\n",
    "def count_char_x(word, x):\n",
    "    return word.count(x)\n",
    "\n",
    "# Uncomment these function calls to test your tip function:\n",
    "print(count_char_x(\"mississippi\", \"s\"))\n",
    "# should print 4\n",
    "print(count_char_x(\"mississippi\", \"m\"))\n",
    "# should print 1"
   ]
  },
  {
   "cell_type": "markdown",
   "id": "139f97f8e41e365",
   "metadata": {},
   "source": [
    "#### Here is one way to solve it:\n",
    "```py\n",
    "def count_char_x(word, x):\n",
    "  occurrences = 0\n",
    "  for letter in word:\n",
    "    if letter == x:\n",
    "      occurrences += 1\n",
    "  return occurrences\n",
    "```\n",
    "This solution is similar to the last solution. In this case, we are looping through the input string and comparing it against the input character. If they are the same, then we increase the counter."
   ]
  },
  {
   "cell_type": "markdown",
   "id": "62d54cbce3bd256a",
   "metadata": {},
   "source": [
    "## 3. Count Multi X\n",
    "Now let’s change our function to compare against an entire string instead of a single character. This function should accept a string and a substring to compare against. The number of occurrences of the second parameter within the first parameter string are returned. What this means is that we are checking the number of occurrences of the shorter string (second parameter) within the longer string (first parameter). One way to accomplish this is using the `split` function. Here is how to do that:\n",
    "\n",
    "1. Define the function to accept two parameters. `word` for the input string and `x` for the second string we are searching for\n",
    "2. Split the string into substrings based on the second input parameter\n",
    "3. Count the number of instances the substring appeared in the first input string based on the split string\n",
    "4. Return the result\n",
    "\n",
    "### Coding question\n",
    "Write a function named `count_multi_char_x` that takes a string named `word` and a string named `x`. This function should do the same thing as the `count_char_x` function you just wrote - it should return the number of times `x` appears in `word`. However, this time, make sure your function works when `x` is multiple characters long.\n",
    "\n",
    "For example, `count_multi_char_x(\"Mississippi\", \"iss\")` should return `2`\n",
    "\n",
    "#### Hint\n",
    "Consider using the `split` function. How does the length of `word.split(x)` relate to the number of times `x` was in `word`?"
   ]
  },
  {
   "cell_type": "code",
   "execution_count": 5,
   "id": "799743a4",
   "metadata": {
    "scrolled": false
   },
   "outputs": [
    {
     "name": "stdout",
     "output_type": "stream",
     "text": [
      "2\n",
      "1\n"
     ]
    }
   ],
   "source": [
    "# Write your count_multi_char_x function here:\n",
    "def count_multi_char_x(word, x):\n",
    "    splits = word.split(x)\n",
    "#     print(splits)\n",
    "    return len(splits)-1\n",
    "\n",
    "# Uncomment these function calls to test your function:\n",
    "print(count_multi_char_x(\"mississippi\", \"iss\"))\n",
    "# should print 2\n",
    "print(count_multi_char_x(\"apple\", \"pp\"))\n",
    "# should print 1"
   ]
  },
  {
   "cell_type": "code",
   "execution_count": 6,
   "id": "a66d8275cdb9b6f7",
   "metadata": {},
   "outputs": [
    {
     "name": "stdout",
     "output_type": "stream",
     "text": [
      "2\n",
      "1\n"
     ]
    }
   ],
   "source": [
    "# Another solution\n",
    "def count_multi_char_x(word, x):\n",
    "    len_x = len(x)\n",
    "    count = 0\n",
    "    for ind in range(len(word)):\n",
    "        if word[ind : ind+len_x] == x:\n",
    "            count += 1\n",
    "    return count\n",
    "\n",
    "# Uncomment these function calls to test your function:\n",
    "print(count_multi_char_x(\"mississippi\", \"iss\"))\n",
    "# should print 2\n",
    "print(count_multi_char_x(\"apple\", \"pp\"))\n",
    "# should print 1"
   ]
  },
  {
   "cell_type": "markdown",
   "id": "43dc19f0926c6e55",
   "metadata": {},
   "source": [
    "#### Here is one possible way to get the answer:\n",
    "\n",
    "```py\n",
    "def count_multi_char_x(word, x):\n",
    "  splits = word.split(x)\n",
    "  return(len(splits)-1)\n",
    "```\n",
    "\n",
    "In our function, we `split` the first input string using the second input string. What this does is cut the first string into an array of smaller substrings containing the parts not equal to our second parameter `x`. For example, when splitting `\"mississippi\"` with the string `\"iss\"`, the resulting array will be [“m”, “”, “ippi”]. This includes the characters before `\"iss\"` was found, the empty space between the two instances of `\"iss\"` and the characters after the last `\"iss\"`. Be careful! In order to get the correct result we need to return one less than the total number of split sections — in this example, `\"iss\"` was in the string twice, resulting in 3 sections. So we should return `3 - 1`."
   ]
  },
  {
   "cell_type": "markdown",
   "id": "bbedd3e3",
   "metadata": {},
   "source": [
    "## 4. Substring Between\n",
    "Here is a challenging problem. We need a function that is able to extract a portion of a string between two characters. The function will take three parameters where the first parameter is the string we are going to extract the substring from, the second input is the starting character of our substring and the third character is the ending character of our substring. Here are the steps we can use:\n",
    "\n",
    "1. Define the function to accept three parameters, one string and two characters\n",
    "2. `find` the starting index of our substring using the second input parameter\n",
    "3. `find` the ending index of our substring using the third input parameter\n",
    "4. If neither of the indices are -1, return the portion of the first input parameter string between the starting and ending indices (not including the starting and ending index)\n",
    "5. If either of the indices are -1, that means the start or end of the substring didn’t exist in our string. Return the original string in this case.\n",
    "\n",
    "### Coding question\n",
    "Write a function named `substring_between_letters` that takes a string named `word`, a single character named `start`, and another character named `end`. This function should return the substring between the first occurrence of `start` and `end` in `word`. If `start` or `end` are not in `word`, the function should return `word`.\n",
    "\n",
    "For example, `substring_between_letters(\"apple\", \"p\", \"e\")` should return `\"pl\"`.\n",
    "\n",
    "#### Hint\n",
    "Begin by finding the indices of the start and end characters by using `word.find(start)` and `word.find(end)`.\n",
    "If either of those indices are `-1`, then the original string didn’t contain one of those characters, and you should return `word`.\n",
    "\n",
    "If neither are `-1`, then slice `word` using those indices. Remember, slicing is `[inclusive:exclusive]`!"
   ]
  },
  {
   "cell_type": "code",
   "execution_count": 7,
   "id": "76073b8b0b2ed4b",
   "metadata": {},
   "outputs": [
    {
     "name": "stdout",
     "output_type": "stream",
     "text": [
      "pl\n",
      "apple\n"
     ]
    }
   ],
   "source": [
    "# Write your substring_between_letters function here:\n",
    "def substring_between_letters(word, start, end):\n",
    "    start_ind = word.find(start)\n",
    "    end_ind = word.find(end)\n",
    "#     print(start_ind, end_ind)\n",
    "    if start_ind > -1 and end_ind > -1:\n",
    "        return word[start_ind+1 : end_ind]\n",
    "    return word\n",
    "\n",
    "# Uncomment these function calls to test your function:\n",
    "print(substring_between_letters(\"apple\", \"p\", \"e\"))\n",
    "# should print \"pl\"\n",
    "print(substring_between_letters(\"apple\", \"p\", \"c\"))\n",
    "# should print \"apple\""
   ]
  },
  {
   "cell_type": "code",
   "execution_count": 10,
   "id": "ee6a20b7",
   "metadata": {},
   "outputs": [
    {
     "name": "stdout",
     "output_type": "stream",
     "text": [
      "pl\n",
      "apple\n"
     ]
    }
   ],
   "source": [
    "# Write your substring_between_letters function here:\n",
    "def substring_between_letters(word, start, end):\n",
    "    start_ind = word.find(start)\n",
    "    end_ind = word.find(end)\n",
    "#     print(start_ind. end_ind)\n",
    "    if start_ind and end_ind < 0:    # difference is in this line code\n",
    "        return word\n",
    "    return word[start_ind+1 : end_ind]\n",
    "\n",
    "# Uncomment these function calls to test your function:\n",
    "print(substring_between_letters(\"apple\", \"p\", \"e\"))\n",
    "# should print \"pl\"\n",
    "print(substring_between_letters(\"apple\", \"p\", \"c\"))\n",
    "# should print \"apple\""
   ]
  },
  {
   "cell_type": "code",
   "execution_count": 9,
   "id": "477cf6fba7f0c0ae",
   "metadata": {},
   "outputs": [
    {
     "name": "stdout",
     "output_type": "stream",
     "text": [
      "pl\n",
      "apple\n"
     ]
    }
   ],
   "source": [
    "# Another solution\n",
    "def substring_between_letters(word, start, end):\n",
    "    start_ind = -1\n",
    "    end_ind = -1\n",
    "    for letter in word:\n",
    "        if letter == start:\n",
    "            start_ind = word.index(letter)\n",
    "        elif letter == end:\n",
    "            end_ind = word.index(letter)\n",
    "#     print(start_ind, end_ind)\n",
    "    if start_ind != -1 and end_ind != -1:\n",
    "        return word[(start_ind + 1):end_ind]\n",
    "    return word\n",
    "\n",
    "\n",
    "# Uncomment these function calls to test your function:\n",
    "print(substring_between_letters(\"apple\", \"p\", \"e\"))\n",
    "# should print \"pl\"\n",
    "print(substring_between_letters(\"apple\", \"p\", \"c\"))\n",
    "# should print \"apple\""
   ]
  },
  {
   "cell_type": "markdown",
   "id": "235a0026",
   "metadata": {},
   "source": [
    "#### Here is this solution:\n",
    "```py\n",
    "def substring_between_letters(word, start, end):\n",
    "  start_ind = word.find(start)\n",
    "  end_ind = word.find(end)\n",
    "  if start_ind > -1 and end_ind > -1:\n",
    "    return(word[start_ind+1:end_ind])\n",
    "  return word\n",
    "```\n",
    "In this solution, we use the `find` function to get the starting and ending indices of our substring using our starting and ending characters. After getting those, we check to make sure neither of them are -1. In order to extract the portion of the string within those indices, we use slicing. We provide the starting index plus one in order to not include the starting character. We do not need to provide the end index plus one, since the value on the right of the colon is excluded. This causes our slicing to look like: `word[start_ind+1:end_ind]`."
   ]
  },
  {
   "cell_type": "markdown",
   "id": "50bc42a7",
   "metadata": {},
   "source": [
    "## 5. X Length\n",
    "Let’s use the `split` method in a different way. We need a new function that is able to accept two inputs: one for a sentence and another for a number. The function returns `True` if every single word in the sentence has a length greater than or equal to the number provided. These are the steps:\n",
    "\n",
    "1. Define the function to accept two parameters, one string, and one number\n",
    "2. Split up the sentence into an array of words\n",
    "3. Loop through the words. If the length of any of the words is less than the provided number return `False`\n",
    "4. If we made it through the loop without returning `False` then return `True`\n",
    "\n",
    "### Coding question\n",
    "Create a function called `x_length_words` that takes a string named `sentence` and an integer named `x` as parameters. This function should return `True` if every word in `sentence` has a length greater than or equal to `x`.\n",
    "\n",
    "#### Hint\n",
    "First create a list of every word in `sentence` by using `sentence.split()`. Then iterate through that list and if any of the words have a length less than `x`, return `False`. If you iterate through all of the words and haven't returned `False`, you know every word had a length greater than or equal to `x`, so you should return `True`."
   ]
  },
  {
   "cell_type": "code",
   "execution_count": 24,
   "id": "f1fe89b2e240a60",
   "metadata": {},
   "outputs": [
    {
     "name": "stdout",
     "output_type": "stream",
     "text": [
      "False\n",
      "True\n"
     ]
    }
   ],
   "source": [
    "# Write your x_length_words function here:\n",
    "def x_length_words(sentence, x):\n",
    "    words = sentence.split(' ')\n",
    "    for word in words:\n",
    "        if len(word) < x:\n",
    "            return False\n",
    "    return True\n",
    "# Uncomment these function calls to test your tip function:\n",
    "print(x_length_words(\"i like apples\", 2))\n",
    "# should print False\n",
    "print(x_length_words(\"he likes apples\", 2))\n",
    "# should print True"
   ]
  },
  {
   "cell_type": "markdown",
   "id": "56953dc0",
   "metadata": {},
   "source": [
    "#### Here is what we did:\n",
    "```py\n",
    "def x_length_words(sentence, x):\n",
    "  words = sentence.split(\" \")\n",
    "  for word in words:\n",
    "    if len(word) < x:\n",
    "      return False\n",
    "  return True\n",
    "```\n",
    "We can use the `split` function with the space character provided in order to get an array of all of the words in the sentence. Next, we use the `in` keyword in order to loop through every element in our array of words. We check the length of each word and compare it against `x` to see if it is shorter. If any of the words in the array are shorter then we immediately return `False` and end the function. If we make through all of the words without returning `False`, we know we should return `True` since all of the word’s lengths were longer than `x`."
   ]
  },
  {
   "cell_type": "code",
   "execution_count": null,
   "id": "4f1dd308eaed16b",
   "metadata": {},
   "outputs": [],
   "source": []
  }
 ],
 "metadata": {
  "kernelspec": {
   "display_name": "Python 3 (ipykernel)",
   "language": "python",
   "name": "python3"
  },
  "language_info": {
   "codemirror_mode": {
    "name": "ipython",
    "version": 3
   },
   "file_extension": ".py",
   "mimetype": "text/x-python",
   "name": "python",
   "nbconvert_exporter": "python",
   "pygments_lexer": "ipython3",
   "version": "3.11.5"
  }
 },
 "nbformat": 4,
 "nbformat_minor": 5
}
