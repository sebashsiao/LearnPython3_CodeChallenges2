{
 "cells": [
  {
   "cell_type": "markdown",
   "id": "7b09c2df",
   "metadata": {},
   "source": [
    "# Python Code Challenges: Classes"
   ]
  },
  {
   "cell_type": "markdown",
   "id": "6f9fa4be",
   "metadata": {},
   "source": [
    "#### Python Code Challenges Involving Classes\n",
    "\n",
    "This article will help you review Python classes by providing some interesting code challenges.\n",
    "\n",
    "Some of these challenges are difficult! Take some time to think about them before starting to code.\n",
    "\n",
    "You might not get the solution correct on your first try — look at your output, try to find where you’re going wrong, and iterate on your solution.\n",
    "\n",
    "Finally, if you get stuck, use our solution code! If you “Check Answer” twice with an incorrect solution, you should see an option to get our solution code. However, truly investigate that solution — experiment and play with the solution code until you have a good grasp of how it is working. Good luck!\n",
    "\n",
    "## Class Syntax\n",
    "As a refresher, class syntax looks like this:\n",
    "\n",
    "```py\n",
    "class MyClass:\n",
    "    # ... class variables ...\n",
    "\n",
    "    def __init__(self):\n",
    "        # ... instance variables ... \n",
    "```\n",
    "\n",
    "For example, a class which defines a rectangle using a class variable, instance variables, and a method looks like this:\n",
    "\n",
    "```py\n",
    "class Rectangle:\n",
    "    sides = 4\n",
    "    \n",
    "    def __init__(self, width=0, height=0):\n",
    "        self.width = width\n",
    "        self.height = height\n",
    "    \n",
    "    def calculate_area(self):\n",
    "        return self.width * self.height\n",
    "```\n",
    "\n",
    "rectangle_1 = Rectangle(5, 10)\n",
    "rect_area = rectangle_1.calculate_area()\n",
    "\n",
    "The last two lines in the above example show how to initialize an object of the class as well as calling one of the methods.\n",
    "\n",
    "## Challenges\n",
    "You have decided to use your programming knowledge to create a new robotics company. Your idea for micro driving robots which are able to pick up and deliver objects was promising and now you want to start programming the logic. These code challenges will use your knowledge of Classes to solve some example scenarios. Try solving the five challenge problems below!"
   ]
  },
  {
   "cell_type": "markdown",
   "id": "1435a3d7",
   "metadata": {},
   "source": [
    "## 1. Setting Up Our Robot\n",
    "Let’s begin by creating the class for our robot. We will begin by setting up the instance variables to keep track of important data related to the robot. Here are the steps we need to do:\n",
    "\n",
    "1. Create a new class called `DriveBot`\n",
    "2. Set up a basic constructor (no parameters needed)\n",
    "3. Initialize three instance variables within our constructor which all default to 0: `motor_speed`, `direction`, and `sensor_range`\n",
    "\n",
    "### Coding question\n",
    "Create a python class called `DriveBot`. Within this class, create instance variables for `motor_speed`, `sensor_range`, and `direction`. All of these should be initialized to `0` by default. After setting up the class, create an object from the class called `robot_1`. Set the `motor_speed` to `5`, the `direction` to `90`, and the `sensor_range` to `10`. Use the provided print statements to check your work!\n",
    "\n",
    "#### Hint\n",
    "Remember that in order to create instance variables inside a class, they need to be within a constructor. For this problem, you can use a constructor with no parameters like so: `def __init__(self):`. Inside of the constructor, you can then define instance variables: `self.motor_speed = 0`"
   ]
  },
  {
   "cell_type": "code",
   "execution_count": 1,
   "id": "96947362",
   "metadata": {},
   "outputs": [
    {
     "name": "stdout",
     "output_type": "stream",
     "text": [
      "5\n",
      "90\n",
      "10\n"
     ]
    }
   ],
   "source": [
    "# Define the DriveBot class here!\n",
    "class DriveBot:\n",
    "    def __init__(self):\n",
    "        self.motor_speed = 0\n",
    "        self.sensor_range = 0\n",
    "        self.direction = 0\n",
    "  \n",
    "robot_1 = DriveBot()\n",
    "robot_1.motor_speed = 5\n",
    "robot_1.direction = 90\n",
    "robot_1.sensor_range = 10\n",
    "\n",
    "print(robot_1.motor_speed)\n",
    "print(robot_1.direction)\n",
    "print(robot_1.sensor_range)"
   ]
  },
  {
   "cell_type": "markdown",
   "id": "8b5d64d5",
   "metadata": {},
   "source": [
    "#### Here is how we solved this:\n",
    "```py\n",
    "class DriveBot:\n",
    "    def __init__(self):\n",
    "        self.motor_speed = 0\n",
    "        self.direction = 0\n",
    "        self.sensor_range = 0\n",
    "```\n",
    "\n",
    "This shows the structure of a simple class that only contains instance variables. The three instance variables are set to 0 for now, which means that they can only be changed by manually accessing them from an object of the `DriveBot` class.\n",
    "\n",
    "Here is an example of how you can manually set the values for an object of the `DriveBot` class:\n",
    "\n",
    "```py\n",
    "test_bot = DriveBot()\n",
    "test_bot.motor_speed = 30\n",
    "test_bot.direction = 90\n",
    "test_bot.sensor_range = 25\n",
    "```"
   ]
  },
  {
   "cell_type": "markdown",
   "id": "de77a493",
   "metadata": {},
   "source": [
    "## 2. Adding Robot Logic\n",
    "Now we want to add some logic to our robot. It would be very useful to be able to control our robot, so we are going to create a `control_bot` method which changes the `speed` and `direction`. We are also going to create a method called `adjust_sensor`. This method is used to change the range of our robot’s sensors which are used to detect obstacles. Here are the steps:\n",
    "\n",
    "1. Define a function within the `DriveBot` class which accepts two additional parameters: one for a new speed and one for a new direction\n",
    "2. Replace the instance variables for `speed` and `direction` with the input parameters\n",
    "3. Define another function called `adjust_sensor` which accepts one additional parameter\n",
    "4. Replace the instance variable `sensor_range` with the input parameter\n",
    "\n",
    "### Coding question\n",
    "In the `DriveBot` class, add a method called `control_bot` which accepts parameters: `new_speed` and `new_direction`. These should replace the associated instance variables. Create another method called `adjust_sensor` which accepts a parameter called `new_sensor_range` which replaces the `sensor_range` instance variable. Afterwards, use these methods to rotate the robot `180` degrees at `10` miles per hour with a sensor range of `20` feet. Use the provided print statements to check your code!\n",
    "\n",
    "#### Hint\n",
    "Remember that the format for creating methods in a class looks like this: `def method_name(self, variable_1, variable_2):` and we can modify instance variables like so: `self.instance_variable_name = variable_1`."
   ]
  },
  {
   "cell_type": "code",
   "execution_count": 2,
   "id": "c4937e3f",
   "metadata": {},
   "outputs": [
    {
     "name": "stdout",
     "output_type": "stream",
     "text": [
      "10\n",
      "180\n",
      "20\n"
     ]
    }
   ],
   "source": [
    "class DriveBot:\n",
    "    def __init__(self):\n",
    "        self.motor_speed = 0\n",
    "        self.direction = 0\n",
    "        self.sensor_range = 0\n",
    "    \n",
    "    # Add the methods here!\n",
    "    def control_bot(self, new_speed, new_direction):\n",
    "        self.motor_speed = new_speed\n",
    "        self.direction = new_direction\n",
    "    \n",
    "    def adjust_sensor(self, new_sensor_range):\n",
    "        self.sensor_range = new_sensor_range\n",
    "    \n",
    "\n",
    "robot_1 = DriveBot()\n",
    "# Use the methods here!\n",
    "robot_1.control_bot(10,180)\n",
    "robot_1.adjust_sensor(20)\n",
    "\n",
    "print(robot_1.motor_speed)\n",
    "print(robot_1.direction)\n",
    "print(robot_1.sensor_range)"
   ]
  },
  {
   "cell_type": "markdown",
   "id": "be6e3b1c",
   "metadata": {},
   "source": [
    "#### Here are the methods we added:\n",
    "```py\n",
    "def control_bot(self, new_speed, new_direction):\n",
    "    self.motor_speed = new_speed\n",
    "    self.direction = new_direction\n",
    "\n",
    "def adjust_sensor(self, new_sensor_range):\n",
    "    self.sensor_range = new_sensor_range\n",
    "```\n",
    "\n",
    "These two methods were added inside of the `DriveBot` class. They are used to replace the instance variables with new values from the input parameters. We use `self.variable_name` to access a certain instance variable within the class."
   ]
  },
  {
   "cell_type": "markdown",
   "id": "e1efc8ce",
   "metadata": {},
   "source": [
    "## 3. Enhanced Constructor\n",
    "It can be tedious manually setting the values for each instance variable after we have created an object from the `DriveBot` class. We can enhance our constructor to automatically assign the values we provide to the instance variables. Instead of taking zero parameters, we are going to make the constructor take three parameters. Here is what we need to do:\n",
    "\n",
    "1. Modify the constructor to take three parameters (in addition to `self`): one for `motor_speed`, one for `direction`, and one for `sensor_range`\n",
    "2. For the first parameter, make the default value `0`\n",
    "3. For the second parameter, make the default value `180`\n",
    "4. For the third parameter, make the default value `10`\n",
    "5. Within the constructor, replace the instance variables with the variables from the input parameters\n",
    "\n",
    "### Coding question\n",
    "Upgrade the constructor in the `DriveBot` class in order to accept three optional parameters. The constructor can accept `motor_speed` (which defaults to `0` if not provided), `direction` (which defaults to `180` if not provided, and `sensor_range` (which defaults to `10` if not provided). These parameters should replace the associated instance variables. Test out the upgraded constructor by initializing a new robot called `robot_2` with a speed of `35`, a direction of `75`, and a sensor range of `25`.\n",
    "\n",
    "#### Hint\n",
    "In order to create a constructor with multiple optional parameters, you can use: `def __init__(self, variable_1 = 12, variable_2 = 24, variable_3 = 48):`. The parameters which are not provided are passed into the constructor as the default value."
   ]
  },
  {
   "cell_type": "code",
   "execution_count": 6,
   "id": "b00c3823",
   "metadata": {
    "ExecuteTime": {
     "end_time": "2023-10-07T20:01:37.769593Z",
     "start_time": "2023-10-07T20:01:37.759793Z"
    }
   },
   "outputs": [
    {
     "name": "stdout",
     "output_type": "stream",
     "text": [
      "35\n",
      "75\n",
      "25\n",
      "10/270/10\n",
      "45/180/20\n",
      "50/180/10\n",
      "0/180/10\n",
      "18/95/30\n"
     ]
    }
   ],
   "source": [
    "class DriveBot:\n",
    "    # Update this constructor!\n",
    "    def __init__(self, motor_speed=0, direction=180, sensor_range=10):\n",
    "        self.motor_speed = motor_speed\n",
    "        self.direction = direction\n",
    "        self.sensor_range = sensor_range\n",
    "    \n",
    "    def control_bot(self, new_speed, new_direction):\n",
    "        self.motor_speed = new_speed\n",
    "        self.direction = new_direction\n",
    "\n",
    "    def adjust_sensor(self, new_sensor_range):\n",
    "        self.sensor_range = new_sensor_range\n",
    "\n",
    "robot_1 = DriveBot()\n",
    "robot_1.motor_speed = 5\n",
    "robot_1.direction = 90\n",
    "robot_1.sensor_range = 10\n",
    "\n",
    "# Create robot_2 here!\n",
    "robot_2 = DriveBot(35,75,25)\n",
    "\n",
    "print(robot_2.motor_speed)\n",
    "print(robot_2.direction)\n",
    "print(robot_2.sensor_range)\n",
    "\n",
    "# sensor_range defaults to 10\n",
    "test_bot_1 = DriveBot(10, 270) \n",
    "print(test_bot_1.motor_speed, test_bot_1.direction, test_bot_1.sensor_range, sep='/')\n",
    "# direction defaults to 180\n",
    "test_bot_2 = DriveBot(sensor_range = 20, motor_speed = 45) \n",
    "print(test_bot_2.motor_speed, test_bot_2.direction, test_bot_2.sensor_range, sep='/')\n",
    "# direction defaults to 180 and sensor_range defaults to 10\n",
    "test_bot_3 = DriveBot(50) \n",
    "print(test_bot_3.motor_speed, test_bot_3.direction, test_bot_3.sensor_range, sep='/')\n",
    "\n",
    "# all default values are used\n",
    "test_bot_4 = DriveBot() \n",
    "print(test_bot_4.motor_speed, test_bot_4.direction, test_bot_4.sensor_range, sep='/')\n",
    "# no default values are used\n",
    "test_bot_5 = DriveBot(18, 95, 30)\n",
    "print(test_bot_5.motor_speed, test_bot_5.direction, test_bot_5.sensor_range, sep='/')\n"
   ]
  },
  {
   "cell_type": "markdown",
   "id": "c63ccd6d",
   "metadata": {},
   "source": [
    "#### Here is the updated constructor:\n",
    "```py\n",
    "def __init__(self, motor_speed = 0, direction = 180, sensor_range = 10):\n",
    "    self.motor_speed = motor_speed\n",
    "    self.direction = direction\n",
    "    self.sensor_range = sensor_range\n",
    "```\n",
    "\n",
    "This upgraded constructor includes input parameters as well as default values for those parameters. This means that if no value is provided for those parameters, then the value they are set equal to will be used. Here are some examples of different ways to use the constructor:\n",
    "\n",
    "```py\n",
    "# sensor_range defaults to 10\n",
    "test_bot_1 = DriveBot(10, 270) \n",
    "\n",
    "# direction defaults to 180\n",
    "test_bot_2 = DriveBot(sensor_range = 20, motor_speed = 45) \n",
    "\n",
    "# direction defaults to 180 and sensor_range defaults to 10\n",
    "test_bot_3 = DriveBot(50) \n",
    "\n",
    "# all default values are used\n",
    "test_bot_4 = DriveBot() \n",
    "\n",
    "# no default values are used\n",
    "test_bot_5 = DriveBot(18, 95, 30)\n",
    "```"
   ]
  },
  {
   "cell_type": "markdown",
   "id": "06d16a8b",
   "metadata": {},
   "source": [
    "## 4. Controlling Them All\n",
    "We want to add a new feature that allows the user to control multiple robots at once. The robots should be able to all have the same `latitude` and `longitude` GPS destination coordinates as well as a setting for disabling them all called `all_disabled`. We can accomplish this using class variables. Here is how we can do it:\n",
    "\n",
    "Create a new class variable within the `DriveBot` class called `all_disabled` and set it equal to `False`\n",
    "Create a new class variable within the `DriveBot` class called `latitude` and set it equal to -999999\n",
    "Create a new class variable within the `DriveBot` class called `longitude` and set it equal to -999999\n",
    "Outside of the class, test the class variables by setting the `longitude` of all robots to `50.0`, the `latitude` to `-50.0` and `all_disabled` to `True`\n",
    "\n",
    "### Coding question\n",
    "Create a class variable called `all_disabled` which is set to `False`. Next, create two more class variables called `latitude` and `longitude`. Set both of those variables to equal `-999999`. A third robot has been created below the first two robots. Set the `latitude` of all of the robots to `-50.0` at once. Additionally, set the `longitude` of the robots to `50.0` and set `all_disabled` to `True`. You should be able to set those values using three lines of code.\n",
    "\n",
    "#### Hint\n",
    "You can create class variables directly in the class without placing them in the constructor. Also, to change the value of the class variable within all objects of the class, access the class variable directly from the class. Here is an example: `DriveBot.class_variable = 5`."
   ]
  },
  {
   "cell_type": "code",
   "execution_count": 4,
   "id": "c85e3331",
   "metadata": {},
   "outputs": [
    {
     "name": "stdout",
     "output_type": "stream",
     "text": [
      "-50.0\n",
      "50.0\n",
      "True\n"
     ]
    }
   ],
   "source": [
    "class DriveBot:\n",
    "  # Create the class variables!\n",
    "    all_disabled = False\n",
    "    latitude = -999999\n",
    "    longitude = -999999\n",
    "    def __init__(self, motor_speed = 0, direction = 180, sensor_range = 10):\n",
    "        self.motor_speed = motor_speed\n",
    "        self.direction = direction\n",
    "        self.sensor_range = sensor_range\n",
    "    \n",
    "    def control_bot(self, new_speed, new_direction):\n",
    "        self.motor_speed = new_speed\n",
    "        self.direction = new_direction\n",
    "\n",
    "    def adjust_sensor(self, new_sensor_range):\n",
    "        self.sensor_range = new_sensor_range\n",
    "\n",
    "robot_1 = DriveBot()\n",
    "robot_1.motor_speed = 5\n",
    "robot_1.direction = 90\n",
    "robot_1.sensor_range = 10\n",
    "\n",
    "robot_2 = DriveBot(35, 75, 25)\n",
    "robot_3 = DriveBot(20, 60, 10)\n",
    "\n",
    "# Change the latitude, longitude, and all_disabled values for all three robots using only three lines of code!\n",
    "DriveBot.latitude = -50.0\n",
    "DriveBot.longitude = 50.0\n",
    "DriveBot.all_disabled = True\n",
    "\n",
    "print(robot_1.latitude)\n",
    "print(robot_2.longitude)\n",
    "print(robot_3.all_disabled)\n"
   ]
  },
  {
   "cell_type": "markdown",
   "id": "3e5b9b2a",
   "metadata": {},
   "source": [
    "#### Here are the changes we made in the class:\n",
    "```py\n",
    "class DriveBot:\n",
    "    all_disabled = False\n",
    "    latitude = -999999\n",
    "    longitude = -999999\n",
    "```\n",
    "\n",
    "We placed the class variables at the top of the class outside of the constructor. These variables can be accessed within the scope of the entire class. This means that the class variables contained within every object from the `DriveBot` class will change if we modify the class variable directly. Here is an example of how to change each of these class variables:\n",
    "\n",
    "```py\n",
    "DriveBot.longitude = -79.98553\n",
    "DriveBot.latitude = 40.60793\n",
    "DriveBot.all_disabled = False\n",
    "```"
   ]
  },
  {
   "cell_type": "markdown",
   "id": "4ba76799",
   "metadata": {},
   "source": [
    "## 5. Identifying Robots\n",
    "In order to keep track of the robots we are creating, we want to be able to assign an ID value to each robot when it is created. If we create five robots in a row, we want the IDs of each robot to be 1, 2, 3, 4, and 5 respectively. This can be accomplished by using a class variable counter which increments and is assigned to an instance variable for the ID whenever the constructor is called. Here are the steps:\n",
    "\n",
    "1. Create a new class variable in the `DriveBot` class called `robot_count`\n",
    "2. In the constructor, increment the `robot_count` by `1`\n",
    "3. After incrementing the value, assign the value of `robot_count` to a new instance variable called `id`.\n",
    "\n",
    "### Coding question\n",
    "Within the `DriveBot` class, create an instance variable called `id` which will be assigned to the robot when the object is created. Every time a robot is created, increment a counter (stored as a class variable) so that the next robot will have a different `id`. For example, if three robots were created: `first_robot`, `next_robot`, and `last_robot`; `first_robot` will have an `id` of `1` `next_robot` will have an `id` of `2` and `last_robot` will have an `id` of `3`.\n",
    "\n",
    "#### Hint\n",
    "Remember to make `id` an instance variable and to use another class variable to count the number of robots. For example: a class variable called `robot_count` will be incremented every time the constructor is called from the `DriveBot` class and the value will be assigned to `id`."
   ]
  },
  {
   "cell_type": "code",
   "execution_count": 5,
   "id": "190a2216",
   "metadata": {},
   "outputs": [
    {
     "name": "stdout",
     "output_type": "stream",
     "text": [
      "1\n",
      "2\n",
      "3\n"
     ]
    }
   ],
   "source": [
    "class DriveBot:\n",
    "  # Create a counter to keep track of how many robots were created\n",
    "    all_disabled = False\n",
    "    latitude = -999999\n",
    "    longitude = -999999\n",
    "    robot_count = 0\n",
    "\n",
    "    def __init__(self, motor_speed = 0, direction = 180, sensor_range = 10):\n",
    "        self.motor_speed = motor_speed\n",
    "        self.direction = direction\n",
    "        self.sensor_range = sensor_range\n",
    "        # Assign an `id` to the robot when it is constructed by incrementing the counter and assigning the value to `id`\n",
    "        DriveBot.robot_count += 1\n",
    "        self.id = DriveBot.robot_count\n",
    "    \n",
    "    def control_bot(self, new_speed, new_direction):\n",
    "        self.motor_speed = new_speed\n",
    "        self.direction = new_direction\n",
    "\n",
    "    def adjust_sensor(self, new_sensor_range):\n",
    "        self.sensor_range = new_sensor_range\n",
    "\n",
    "robot_1 = DriveBot()\n",
    "robot_1.motor_speed = 5\n",
    "robot_1.direction = 90\n",
    "robot_1.sensor_range = 10\n",
    "\n",
    "robot_2 = DriveBot(35, 75, 25)\n",
    "robot_3 = DriveBot(20, 60, 10)\n",
    "\n",
    "print(robot_1.id)\n",
    "print(robot_2.id)\n",
    "print(robot_3.id)\n",
    "\n"
   ]
  },
  {
   "cell_type": "markdown",
   "id": "ec2fccfd",
   "metadata": {},
   "source": [
    "#### Here is the complete class:\n",
    "```py\n",
    "class DriveBot:\n",
    "    all_disabled = False\n",
    "    latitude = -999999\n",
    "    longitude = -999999\n",
    "    robot_count = 0\n",
    "\n",
    "    def __init__(self, motor_speed = 0, direction = 180, sensor_range = 10):\n",
    "        self.motor_speed = motor_speed\n",
    "        self.direction = direction\n",
    "        self.sensor_range = sensor_range\n",
    "        DriveBot.robot_count += 1\n",
    "        self.id = DriveBot.robot_count\n",
    "    \n",
    "    def control_bot(self, new_speed, new_direction):\n",
    "        self.motor_speed = new_speed\n",
    "        self.direction = new_direction\n",
    "\n",
    "    def adjust_sensor(self, new_sensor_range):\n",
    "        self.sensor_range = new_sensor_range\n",
    "```\n",
    "\n",
    "The final modifications to this class can be seen at the top of the class and in the constructor. We use a class variable to keep track of the total number of robots. This information is shared across all robot objects we create from the class. Every time a robot object is created, the constructor is called and the count is incremented. Each robot has an instance variable for `id` which is local to that robot object. This is assigned at the time of construction and stores what the count was at that time."
   ]
  },
  {
   "cell_type": "code",
   "execution_count": null,
   "id": "499b9568",
   "metadata": {},
   "outputs": [],
   "source": []
  }
 ],
 "metadata": {
  "kernelspec": {
   "display_name": "Python 3 (ipykernel)",
   "language": "python",
   "name": "python3"
  },
  "language_info": {
   "codemirror_mode": {
    "name": "ipython",
    "version": 3
   },
   "file_extension": ".py",
   "mimetype": "text/x-python",
   "name": "python",
   "nbconvert_exporter": "python",
   "pygments_lexer": "ipython3",
   "version": "3.11.5"
  }
 },
 "nbformat": 4,
 "nbformat_minor": 5
}
